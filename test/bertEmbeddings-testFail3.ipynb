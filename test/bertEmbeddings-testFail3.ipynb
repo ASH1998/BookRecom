{
 "cells": [
  {
   "cell_type": "code",
   "execution_count": null,
   "id": "saving-pregnancy",
   "metadata": {},
   "outputs": [],
   "source": [
    "import os\n",
    "!sudo apt-get update -qq > /dev/null   \n",
    "# Install java\n",
    "!sudo apt-get install -y openjdk-8-jdk-headless -qq > /dev/null\n",
    "os.environ[\"JAVA_HOME\"] = \"/usr/lib/jvm/java-8-openjdk-amd64\"\n",
    "os.environ[\"PATH\"] = os.environ[\"JAVA_HOME\"] + \"/bin:\" + os.environ[\"PATH\"]\n",
    "! pip install -f nlu pyspark==2.4.7 > /dev/null"
   ]
  },
  {
   "cell_type": "code",
   "execution_count": null,
   "id": "objective-wings",
   "metadata": {},
   "outputs": [],
   "source": [
    "import pandas as pd\n",
    "import numpy as np\n",
    "import tqdm\n",
    "import re\n",
    "import json\n",
    "import os\n",
    "import gc\n",
    "import matplotlib.pyplot as plt\n",
    "import seaborn as sns\n"
   ]
  },
  {
   "cell_type": "code",
   "execution_count": null,
   "id": "civic-public",
   "metadata": {},
   "outputs": [],
   "source": [
    "df = pd.read_feather('sampleindex/sample100000.ftr')"
   ]
  },
  {
   "cell_type": "code",
   "execution_count": null,
   "id": "ethical-healthcare",
   "metadata": {},
   "outputs": [],
   "source": [
    "df.columns"
   ]
  },
  {
   "cell_type": "code",
   "execution_count": null,
   "id": "adopted-geology",
   "metadata": {},
   "outputs": [],
   "source": [
    "df = df[['text_reviews_count', 'country_code', 'language_code', 'average_rating', 'description', 'link','num_pages', 'url','image_url',\n",
    "               'book_id', 'ratings_count', 'title', 'title_without_series']]"
   ]
  },
  {
   "cell_type": "code",
   "execution_count": null,
   "id": "previous-breach",
   "metadata": {},
   "outputs": [],
   "source": [
    "df.head()"
   ]
  },
  {
   "cell_type": "code",
   "execution_count": null,
   "id": "angry-possession",
   "metadata": {},
   "outputs": [],
   "source": [
    "import nlu"
   ]
  },
  {
   "cell_type": "code",
   "execution_count": null,
   "id": "alpine-vehicle",
   "metadata": {},
   "outputs": [],
   "source": [
    "pipe = nlu.load('embed_sentence.bert')"
   ]
  },
  {
   "cell_type": "code",
   "execution_count": null,
   "id": "intensive-brush",
   "metadata": {},
   "outputs": [],
   "source": [
    "predictions = pipe.predict(df.description, output_level='document', drop_irrelevant_cols=False, verbose=True)"
   ]
  },
  {
   "cell_type": "code",
   "execution_count": null,
   "id": "induced-friendship",
   "metadata": {},
   "outputs": [],
   "source": [
    "predictions"
   ]
  },
  {
   "cell_type": "code",
   "execution_count": null,
   "id": "employed-speed",
   "metadata": {},
   "outputs": [],
   "source": []
  },
  {
   "cell_type": "code",
   "execution_count": null,
   "id": "ignored-platinum",
   "metadata": {},
   "outputs": [],
   "source": [
    "predictions.info()"
   ]
  },
  {
   "cell_type": "code",
   "execution_count": null,
   "id": "driving-desperate",
   "metadata": {},
   "outputs": [],
   "source": [
    "embeddings = []\n",
    "for i in tqdm.tqdm(df.index):\n",
    "    embeddings.append( predictions[predictions['description'] == df.description[i]])\n",
    "#     break"
   ]
  },
  {
   "cell_type": "code",
   "execution_count": null,
   "id": "alternative-notebook",
   "metadata": {},
   "outputs": [],
   "source": [
    "# embeddings = [predictions[predictions['description'] == df.description[i]] for i in df.index]\n",
    "def clear_memory():\n",
    "    gc.collect()\n",
    "    os.system('sudo sysctl -w vm.drop_caches=3')\n",
    "    \n",
    "clear_memory()"
   ]
  },
  {
   "cell_type": "code",
   "execution_count": null,
   "id": "instrumental-comfort",
   "metadata": {},
   "outputs": [],
   "source": [
    "import threading"
   ]
  },
  {
   "cell_type": "code",
   "execution_count": null,
   "id": "purple-alias",
   "metadata": {},
   "outputs": [],
   "source": [
    "# mutithreading version\n",
    "def func_thread(description, res, index):\n",
    "    embeddingsres = predictions[predictions['description'] == description]\n",
    "    res[index] = embeddingsres"
   ]
  },
  {
   "cell_type": "code",
   "execution_count": null,
   "id": "liked-destination",
   "metadata": {},
   "outputs": [],
   "source": []
  },
  {
   "cell_type": "code",
   "execution_count": null,
   "id": "latter-skating",
   "metadata": {},
   "outputs": [],
   "source": [
    "%timeit\n",
    "thread_list = []\n",
    "embeddings = {}\n",
    "\n",
    "breakctr = 0\n",
    "for i in df.index:\n",
    "    thread = threading.Thread(target=func_thread, args=(df.description[i], embeddings, i))\n",
    "    thread_list.append(thread)\n",
    "    \n",
    "for thread in thread_list:\n",
    "    thread.start()\n",
    "for thread in thread_list:\n",
    "    thread.join()"
   ]
  },
  {
   "cell_type": "code",
   "execution_count": null,
   "id": "printable-spank",
   "metadata": {},
   "outputs": [],
   "source": []
  },
  {
   "cell_type": "code",
   "execution_count": null,
   "id": "super-schedule",
   "metadata": {},
   "outputs": [],
   "source": [
    "len(embeddings)"
   ]
  },
  {
   "cell_type": "code",
   "execution_count": null,
   "id": "cosmetic-volunteer",
   "metadata": {},
   "outputs": [],
   "source": [
    "del predictions\n",
    "del thread_list\n",
    "del thread"
   ]
  },
  {
   "cell_type": "code",
   "execution_count": null,
   "id": "interesting-locator",
   "metadata": {},
   "outputs": [],
   "source": [
    "clear_memory()"
   ]
  },
  {
   "cell_type": "code",
   "execution_count": null,
   "id": "exceptional-mechanism",
   "metadata": {},
   "outputs": [],
   "source": [
    "# embeddings_list = [embeddings[i]['embed_sentence_bert_embeddings'] for i in df.index]"
   ]
  },
  {
   "cell_type": "code",
   "execution_count": null,
   "id": "fleet-sterling",
   "metadata": {},
   "outputs": [],
   "source": [
    "df['embeddings'] = embeddings"
   ]
  },
  {
   "cell_type": "code",
   "execution_count": null,
   "id": "urban-district",
   "metadata": {},
   "outputs": [],
   "source": [
    "df.head()"
   ]
  },
  {
   "cell_type": "code",
   "execution_count": null,
   "id": "specified-nylon",
   "metadata": {},
   "outputs": [],
   "source": [
    "len(df.embeddings.iloc[1])"
   ]
  },
  {
   "cell_type": "code",
   "execution_count": null,
   "id": "friendly-meaning",
   "metadata": {},
   "outputs": [],
   "source": [
    "embeddings = []\n",
    "for i in tqdm.tqdm(df.index):\n",
    "    print(df.description[i])\n",
    "    print( predictions[predictions['description'] == df.description[i]])\n",
    "    break"
   ]
  },
  {
   "cell_type": "code",
   "execution_count": null,
   "id": "worldwide-substitute",
   "metadata": {},
   "outputs": [],
   "source": [
    "df['lendesc'] = df.embeddings.apply(lambda x : len(x))"
   ]
  },
  {
   "cell_type": "code",
   "execution_count": null,
   "id": "excellent-shock",
   "metadata": {},
   "outputs": [],
   "source": [
    "df"
   ]
  },
  {
   "cell_type": "code",
   "execution_count": null,
   "id": "ancient-little",
   "metadata": {},
   "outputs": [],
   "source": [
    "len(df.embeddings[0])"
   ]
  },
  {
   "cell_type": "code",
   "execution_count": null,
   "id": "olympic-bankruptcy",
   "metadata": {},
   "outputs": [],
   "source": []
  }
 ],
 "metadata": {
  "kernelspec": {
   "display_name": "Python 3.6 - AzureML",
   "language": "python",
   "name": "python3-azureml"
  },
  "language_info": {
   "codemirror_mode": {
    "name": "ipython",
    "version": 3
   },
   "file_extension": ".py",
   "mimetype": "text/x-python",
   "name": "python",
   "nbconvert_exporter": "python",
   "pygments_lexer": "ipython3",
   "version": "3.6.9"
  }
 },
 "nbformat": 4,
 "nbformat_minor": 5
}
