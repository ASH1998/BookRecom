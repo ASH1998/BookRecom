{
 "cells": [
  {
   "cell_type": "code",
   "execution_count": 1,
   "id": "alpha-messaging",
   "metadata": {},
   "outputs": [],
   "source": [
    "import os\n",
    "!sudo apt-get update -qq > /dev/null   \n",
    "# Install java\n",
    "!sudo apt-get install -y openjdk-8-jdk-headless -qq > /dev/null\n",
    "os.environ[\"JAVA_HOME\"] = \"/usr/lib/jvm/java-8-openjdk-amd64\"\n",
    "os.environ[\"PATH\"] = os.environ[\"JAVA_HOME\"] + \"/bin:\" + os.environ[\"PATH\"]\n",
    "! pip install -f nlu pyspark==2.4.7 > /dev/null"
   ]
  },
  {
   "cell_type": "code",
   "execution_count": 77,
   "id": "settled-israeli",
   "metadata": {},
   "outputs": [],
   "source": [
    "import pandas as pd\n",
    "import numpy as np\n",
    "import tqdm\n",
    "import re\n",
    "import json\n",
    "import os\n",
    "import gc\n",
    "import matplotlib.pyplot as plt\n",
    "import seaborn as sns\n",
    "import nlu\n",
    "import threading"
   ]
  },
  {
   "cell_type": "code",
   "execution_count": 73,
   "id": "inappropriate-reward",
   "metadata": {},
   "outputs": [],
   "source": [
    "# embeddings = [predictions[predictions['description'] == df.description[i]] for i in df.index]\n",
    "def clear_memory():\n",
    "    gc.collect()\n",
    "    os.system('sudo sysctl -w vm.drop_caches=3')\n",
    "    \n",
    "clear_memory()"
   ]
  },
  {
   "cell_type": "code",
   "execution_count": 3,
   "id": "apparent-brand",
   "metadata": {},
   "outputs": [],
   "source": [
    "df = pd.read_feather('sampleindex/sample100000.ftr')"
   ]
  },
  {
   "cell_type": "code",
   "execution_count": 4,
   "id": "structured-commerce",
   "metadata": {},
   "outputs": [],
   "source": [
    "df = df[['text_reviews_count', 'country_code', 'language_code', 'average_rating', 'description', 'link','num_pages', 'url','image_url',\n",
    "               'book_id', 'ratings_count', 'title', 'title_without_series']]"
   ]
  },
  {
   "cell_type": "code",
   "execution_count": 5,
   "id": "therapeutic-gentleman",
   "metadata": {},
   "outputs": [
    {
     "data": {
      "text/html": [
       "<div>\n",
       "<style scoped>\n",
       "    .dataframe tbody tr th:only-of-type {\n",
       "        vertical-align: middle;\n",
       "    }\n",
       "\n",
       "    .dataframe tbody tr th {\n",
       "        vertical-align: top;\n",
       "    }\n",
       "\n",
       "    .dataframe thead th {\n",
       "        text-align: right;\n",
       "    }\n",
       "</style>\n",
       "<table border=\"1\" class=\"dataframe\">\n",
       "  <thead>\n",
       "    <tr style=\"text-align: right;\">\n",
       "      <th></th>\n",
       "      <th>text_reviews_count</th>\n",
       "      <th>country_code</th>\n",
       "      <th>language_code</th>\n",
       "      <th>average_rating</th>\n",
       "      <th>description</th>\n",
       "      <th>link</th>\n",
       "      <th>num_pages</th>\n",
       "      <th>url</th>\n",
       "      <th>image_url</th>\n",
       "      <th>book_id</th>\n",
       "      <th>ratings_count</th>\n",
       "      <th>title</th>\n",
       "      <th>title_without_series</th>\n",
       "    </tr>\n",
       "  </thead>\n",
       "  <tbody>\n",
       "    <tr>\n",
       "      <th>0</th>\n",
       "      <td>1</td>\n",
       "      <td>US</td>\n",
       "      <td></td>\n",
       "      <td>4.00</td>\n",
       "      <td></td>\n",
       "      <td>https://www.goodreads.com/book/show/5333265-w-...</td>\n",
       "      <td>256</td>\n",
       "      <td>https://www.goodreads.com/book/show/5333265-w-...</td>\n",
       "      <td>https://images.gr-assets.com/books/1310220028m...</td>\n",
       "      <td>5333265</td>\n",
       "      <td>3</td>\n",
       "      <td>W.C. Fields: A Life on Film</td>\n",
       "      <td>W.C. Fields: A Life on Film</td>\n",
       "    </tr>\n",
       "    <tr>\n",
       "      <th>1</th>\n",
       "      <td>6</td>\n",
       "      <td>US</td>\n",
       "      <td></td>\n",
       "      <td>3.23</td>\n",
       "      <td>Anita Diamant's international bestseller \"The ...</td>\n",
       "      <td>https://www.goodreads.com/book/show/1333909.Go...</td>\n",
       "      <td></td>\n",
       "      <td>https://www.goodreads.com/book/show/1333909.Go...</td>\n",
       "      <td>https://s.gr-assets.com/assets/nophoto/book/11...</td>\n",
       "      <td>1333909</td>\n",
       "      <td>10</td>\n",
       "      <td>Good Harbor</td>\n",
       "      <td>Good Harbor</td>\n",
       "    </tr>\n",
       "    <tr>\n",
       "      <th>2</th>\n",
       "      <td>7</td>\n",
       "      <td>US</td>\n",
       "      <td>eng</td>\n",
       "      <td>4.03</td>\n",
       "      <td>Omnibus book club edition containing the Ladie...</td>\n",
       "      <td>https://www.goodreads.com/book/show/7327624-th...</td>\n",
       "      <td>600</td>\n",
       "      <td>https://www.goodreads.com/book/show/7327624-th...</td>\n",
       "      <td>https://images.gr-assets.com/books/1304100136m...</td>\n",
       "      <td>7327624</td>\n",
       "      <td>140</td>\n",
       "      <td>The Unschooled Wizard (Sun Wolf and Starhawk, ...</td>\n",
       "      <td>The Unschooled Wizard (Sun Wolf and Starhawk, ...</td>\n",
       "    </tr>\n",
       "    <tr>\n",
       "      <th>3</th>\n",
       "      <td>3282</td>\n",
       "      <td>US</td>\n",
       "      <td>eng</td>\n",
       "      <td>3.49</td>\n",
       "      <td>Addie Downs and Valerie Adler were eight when ...</td>\n",
       "      <td>https://www.goodreads.com/book/show/6066819-be...</td>\n",
       "      <td>368</td>\n",
       "      <td>https://www.goodreads.com/book/show/6066819-be...</td>\n",
       "      <td>https://s.gr-assets.com/assets/nophoto/book/11...</td>\n",
       "      <td>6066819</td>\n",
       "      <td>51184</td>\n",
       "      <td>Best Friends Forever</td>\n",
       "      <td>Best Friends Forever</td>\n",
       "    </tr>\n",
       "    <tr>\n",
       "      <th>4</th>\n",
       "      <td>5</td>\n",
       "      <td>US</td>\n",
       "      <td></td>\n",
       "      <td>3.40</td>\n",
       "      <td></td>\n",
       "      <td>https://www.goodreads.com/book/show/287140.Run...</td>\n",
       "      <td></td>\n",
       "      <td>https://www.goodreads.com/book/show/287140.Run...</td>\n",
       "      <td>https://images.gr-assets.com/books/1413219371m...</td>\n",
       "      <td>287140</td>\n",
       "      <td>15</td>\n",
       "      <td>Runic Astrology: Starcraft and Timekeeping in ...</td>\n",
       "      <td>Runic Astrology: Starcraft and Timekeeping in ...</td>\n",
       "    </tr>\n",
       "  </tbody>\n",
       "</table>\n",
       "</div>"
      ],
      "text/plain": [
       "  text_reviews_count country_code language_code average_rating  \\\n",
       "0                  1           US                         4.00   \n",
       "1                  6           US                         3.23   \n",
       "2                  7           US           eng           4.03   \n",
       "3               3282           US           eng           3.49   \n",
       "4                  5           US                         3.40   \n",
       "\n",
       "                                         description  \\\n",
       "0                                                      \n",
       "1  Anita Diamant's international bestseller \"The ...   \n",
       "2  Omnibus book club edition containing the Ladie...   \n",
       "3  Addie Downs and Valerie Adler were eight when ...   \n",
       "4                                                      \n",
       "\n",
       "                                                link num_pages  \\\n",
       "0  https://www.goodreads.com/book/show/5333265-w-...       256   \n",
       "1  https://www.goodreads.com/book/show/1333909.Go...             \n",
       "2  https://www.goodreads.com/book/show/7327624-th...       600   \n",
       "3  https://www.goodreads.com/book/show/6066819-be...       368   \n",
       "4  https://www.goodreads.com/book/show/287140.Run...             \n",
       "\n",
       "                                                 url  \\\n",
       "0  https://www.goodreads.com/book/show/5333265-w-...   \n",
       "1  https://www.goodreads.com/book/show/1333909.Go...   \n",
       "2  https://www.goodreads.com/book/show/7327624-th...   \n",
       "3  https://www.goodreads.com/book/show/6066819-be...   \n",
       "4  https://www.goodreads.com/book/show/287140.Run...   \n",
       "\n",
       "                                           image_url  book_id ratings_count  \\\n",
       "0  https://images.gr-assets.com/books/1310220028m...  5333265             3   \n",
       "1  https://s.gr-assets.com/assets/nophoto/book/11...  1333909            10   \n",
       "2  https://images.gr-assets.com/books/1304100136m...  7327624           140   \n",
       "3  https://s.gr-assets.com/assets/nophoto/book/11...  6066819         51184   \n",
       "4  https://images.gr-assets.com/books/1413219371m...   287140            15   \n",
       "\n",
       "                                               title  \\\n",
       "0                        W.C. Fields: A Life on Film   \n",
       "1                                        Good Harbor   \n",
       "2  The Unschooled Wizard (Sun Wolf and Starhawk, ...   \n",
       "3                               Best Friends Forever   \n",
       "4  Runic Astrology: Starcraft and Timekeeping in ...   \n",
       "\n",
       "                                title_without_series  \n",
       "0                        W.C. Fields: A Life on Film  \n",
       "1                                        Good Harbor  \n",
       "2  The Unschooled Wizard (Sun Wolf and Starhawk, ...  \n",
       "3                               Best Friends Forever  \n",
       "4  Runic Astrology: Starcraft and Timekeeping in ...  "
      ]
     },
     "execution_count": 5,
     "metadata": {},
     "output_type": "execute_result"
    }
   ],
   "source": [
    "df.head()"
   ]
  },
  {
   "cell_type": "code",
   "execution_count": 6,
   "id": "earlier-sheriff",
   "metadata": {},
   "outputs": [],
   "source": [
    "df['desclen'] = df.description.apply(lambda x: len(x.split()))"
   ]
  },
  {
   "cell_type": "code",
   "execution_count": 11,
   "id": "individual-illness",
   "metadata": {},
   "outputs": [
    {
     "data": {
      "text/plain": [
       "17304"
      ]
     },
     "execution_count": 11,
     "metadata": {},
     "output_type": "execute_result"
    }
   ],
   "source": [
    "max(df.desclen.value_counts())\n",
    "# i.e there are 17304 books without descriptions, we will use their title where they dont have descriptions"
   ]
  },
  {
   "cell_type": "code",
   "execution_count": 16,
   "id": "pharmaceutical-truth",
   "metadata": {},
   "outputs": [],
   "source": [
    "newdescription = [df.description[x] if len(df.description[x].split())>1 else df.title[x] for x in df.index]"
   ]
  },
  {
   "cell_type": "code",
   "execution_count": 17,
   "id": "compound-genealogy",
   "metadata": {},
   "outputs": [
    {
     "data": {
      "text/plain": [
       "2517"
      ]
     },
     "execution_count": 17,
     "metadata": {},
     "output_type": "execute_result"
    }
   ],
   "source": [
    "df.description = newdescription\n",
    "df['desclen'] = df.description.apply(lambda x: len(x.split()))\n",
    "max(df.desclen.value_counts())"
   ]
  },
  {
   "cell_type": "code",
   "execution_count": 41,
   "id": "enclosed-polymer",
   "metadata": {},
   "outputs": [
    {
     "data": {
      "text/plain": [
       "<matplotlib.axes._subplots.AxesSubplot at 0x7f0f77576860>"
      ]
     },
     "execution_count": 41,
     "metadata": {},
     "output_type": "execute_result"
    },
    {
     "data": {
      "image/png": "[encoded data removed]",
      "text/plain": [
       "<Figure size 432x288 with 1 Axes>"
      ]
     },
     "metadata": {
      "needs_background": "light"
     },
     "output_type": "display_data"
    }
   ],
   "source": [
    "sns.countplot(x=df.desclen)"
   ]
  },
  {
   "cell_type": "code",
   "execution_count": 52,
   "id": "alternate-serve",
   "metadata": {},
   "outputs": [],
   "source": [
    "def clear_text(sentence):\n",
    "    sentence = re.sub(r'[^\\x00-\\x7f]', '', sentence, re.I)\n",
    "    sentence = re.sub(r'\\n', '', sentence, re.I)\n",
    "    sentence = re.sub(r'\\\\n', '', sentence, re.I)\n",
    "    sentence = re.sub(r'(https?:\\/\\/)?([\\da-z\\.-]+)\\.([a-z\\.]{2,6})([\\/\\w \\.-]*)', '', sentence, re.I)\n",
    "    sentence = re.sub('(\\s|\\t){2,3}', '\\s', sentence, re.I)\n",
    "    sentence = re.sub(r'@|\\\\', '', sentence, re.I)\n",
    "    sentence = re.sub(r\"[()\\\"#/@;:<>{}=~|?\\'\\`]\", \"\", sentence)\n",
    "    return sentence"
   ]
  },
  {
   "cell_type": "code",
   "execution_count": 59,
   "id": "varied-tension",
   "metadata": {},
   "outputs": [],
   "source": [
    "df.description = df.description.apply(lambda x : clear_text(x))"
   ]
  },
  {
   "cell_type": "code",
   "execution_count": 60,
   "id": "coordinate-pocket",
   "metadata": {},
   "outputs": [
    {
     "data": {
      "text/plain": [
       "2500"
      ]
     },
     "execution_count": 60,
     "metadata": {},
     "output_type": "execute_result"
    }
   ],
   "source": [
    "df['desclen'] = df.description.apply(lambda x: len(x.split()))\n",
    "max(df.desclen.value_counts())"
   ]
  },
  {
   "cell_type": "code",
   "execution_count": 71,
   "id": "bottom-regular",
   "metadata": {},
   "outputs": [
    {
     "name": "stdout",
     "output_type": "stream",
     "text": [
      "sent_small_bert_L2_128 download started this may take some time.\n",
      "Approximate size to download 16.1 MB\n",
      "[OK!]\n"
     ]
    }
   ],
   "source": [
    "pipe = nlu.load('embed_sentence.bert')"
   ]
  },
  {
   "cell_type": "code",
   "execution_count": 72,
   "id": "advance-lightweight",
   "metadata": {},
   "outputs": [],
   "source": [
    "predictions = pipe.predict(df.description, output_level='document', drop_irrelevant_cols=True, verbose=1)"
   ]
  },
  {
   "cell_type": "code",
   "execution_count": 74,
   "id": "unnecessary-danish",
   "metadata": {},
   "outputs": [
    {
     "data": {
      "text/html": [
       "<div>\n",
       "<style scoped>\n",
       "    .dataframe tbody tr th:only-of-type {\n",
       "        vertical-align: middle;\n",
       "    }\n",
       "\n",
       "    .dataframe tbody tr th {\n",
       "        vertical-align: top;\n",
       "    }\n",
       "\n",
       "    .dataframe thead th {\n",
       "        text-align: right;\n",
       "    }\n",
       "</style>\n",
       "<table border=\"1\" class=\"dataframe\">\n",
       "  <thead>\n",
       "    <tr style=\"text-align: right;\">\n",
       "      <th></th>\n",
       "      <th>description</th>\n",
       "      <th>text</th>\n",
       "      <th>embed_sentence_bert_embeddings</th>\n",
       "      <th>document</th>\n",
       "    </tr>\n",
       "    <tr>\n",
       "      <th>origin_index</th>\n",
       "      <th></th>\n",
       "      <th></th>\n",
       "      <th></th>\n",
       "      <th></th>\n",
       "    </tr>\n",
       "  </thead>\n",
       "  <tbody>\n",
       "    <tr>\n",
       "      <th>0</th>\n",
       "      <td>W.C. Fields A Life on Film</td>\n",
       "      <td>W.C. Fields A Life on Film</td>\n",
       "      <td>[-0.829294741153717, 0.30839240550994873, -0.5...</td>\n",
       "      <td>W.C. Fields A Life on Film</td>\n",
       "    </tr>\n",
       "    <tr>\n",
       "      <th>1</th>\n",
       "      <td>Anita Diamants international bestseller The Re...</td>\n",
       "      <td>Anita Diamants international bestseller The Re...</td>\n",
       "      <td>[-0.5028615593910217, 0.1767210215330124, -0.5...</td>\n",
       "      <td>Anita Diamants international bestseller The Re...</td>\n",
       "    </tr>\n",
       "    <tr>\n",
       "      <th>2</th>\n",
       "      <td>Omnibus book club edition containing the Ladie...</td>\n",
       "      <td>Omnibus book club edition containing the Ladie...</td>\n",
       "      <td>[-1.1011953353881836, 0.1527175009250641, 0.28...</td>\n",
       "      <td>Omnibus book club edition containing the Ladie...</td>\n",
       "    </tr>\n",
       "    <tr>\n",
       "      <th>3</th>\n",
       "      <td>Addie Downs and Valerie Adler were eight when ...</td>\n",
       "      <td>Addie Downs and Valerie Adler were eight when ...</td>\n",
       "      <td>[-0.5350350141525269, -0.1772732138633728, -0....</td>\n",
       "      <td>Addie Downs and Valerie Adler were eight when ...</td>\n",
       "    </tr>\n",
       "    <tr>\n",
       "      <th>4</th>\n",
       "      <td>Runic Astrology Starcraft and Timekeeping in t...</td>\n",
       "      <td>Runic Astrology Starcraft and Timekeeping in t...</td>\n",
       "      <td>[-1.0804023742675781, -0.5806970000267029, -0....</td>\n",
       "      <td>Runic Astrology Starcraft and Timekeeping in t...</td>\n",
       "    </tr>\n",
       "  </tbody>\n",
       "</table>\n",
       "</div>"
      ],
      "text/plain": [
       "                                                    description  \\\n",
       "origin_index                                                      \n",
       "0                                    W.C. Fields A Life on Film   \n",
       "1             Anita Diamants international bestseller The Re...   \n",
       "2             Omnibus book club edition containing the Ladie...   \n",
       "3             Addie Downs and Valerie Adler were eight when ...   \n",
       "4             Runic Astrology Starcraft and Timekeeping in t...   \n",
       "\n",
       "                                                           text  \\\n",
       "origin_index                                                      \n",
       "0                                    W.C. Fields A Life on Film   \n",
       "1             Anita Diamants international bestseller The Re...   \n",
       "2             Omnibus book club edition containing the Ladie...   \n",
       "3             Addie Downs and Valerie Adler were eight when ...   \n",
       "4             Runic Astrology Starcraft and Timekeeping in t...   \n",
       "\n",
       "                                 embed_sentence_bert_embeddings  \\\n",
       "origin_index                                                      \n",
       "0             [-0.829294741153717, 0.30839240550994873, -0.5...   \n",
       "1             [-0.5028615593910217, 0.1767210215330124, -0.5...   \n",
       "2             [-1.1011953353881836, 0.1527175009250641, 0.28...   \n",
       "3             [-0.5350350141525269, -0.1772732138633728, -0....   \n",
       "4             [-1.0804023742675781, -0.5806970000267029, -0....   \n",
       "\n",
       "                                                       document  \n",
       "origin_index                                                     \n",
       "0                                    W.C. Fields A Life on Film  \n",
       "1             Anita Diamants international bestseller The Re...  \n",
       "2             Omnibus book club edition containing the Ladie...  \n",
       "3             Addie Downs and Valerie Adler were eight when ...  \n",
       "4             Runic Astrology Starcraft and Timekeeping in t...  "
      ]
     },
     "execution_count": 74,
     "metadata": {},
     "output_type": "execute_result"
    }
   ],
   "source": [
    "predictions.head()"
   ]
  },
  {
   "cell_type": "code",
   "execution_count": 75,
   "id": "variable-constant",
   "metadata": {},
   "outputs": [],
   "source": [
    "# mutithreading version\n",
    "def func_thread(description, res, index):\n",
    "    embeddingsres = predictions[predictions['description'] == description]\n",
    "    res[index] = embeddingsres"
   ]
  },
  {
   "cell_type": "code",
   "execution_count": 78,
   "id": "alpine-demand",
   "metadata": {},
   "outputs": [],
   "source": [
    "thread_list = []\n",
    "embeddings = {}\n",
    "\n",
    "breakctr = 0\n",
    "for i in df.index:\n",
    "    thread = threading.Thread(target=func_thread, args=(df.description[i], embeddings, i))\n",
    "    thread_list.append(thread)\n",
    "    \n",
    "for thread in thread_list:\n",
    "    thread.start()\n",
    "for thread in thread_list:\n",
    "    thread.join()"
   ]
  },
  {
   "cell_type": "code",
   "execution_count": 79,
   "id": "resident-delaware",
   "metadata": {},
   "outputs": [],
   "source": [
    "embeddings_list = [embeddings[i]['embed_sentence_bert_embeddings'] for i in df.index]\n",
    "df['embeddings'] = embeddings_list"
   ]
  },
  {
   "cell_type": "code",
   "execution_count": 84,
   "id": "turkish-amount",
   "metadata": {},
   "outputs": [
    {
     "data": {
      "text/plain": [
       "Index(['text_reviews_count', 'country_code', 'language_code', 'average_rating',\n",
       "       'description', 'link', 'num_pages', 'url', 'image_url', 'book_id',\n",
       "       'ratings_count', 'title', 'title_without_series', 'desclen',\n",
       "       'embeddings'],\n",
       "      dtype='object')"
      ]
     },
     "execution_count": 84,
     "metadata": {},
     "output_type": "execute_result"
    }
   ],
   "source": [
    "df.columns "
   ]
  },
  {
   "cell_type": "code",
   "execution_count": 86,
   "id": "documentary-tension",
   "metadata": {},
   "outputs": [],
   "source": [
    "df.drop(['text_reviews_count','title_without_series', 'desclen'], axis=1, inplace=True)"
   ]
  },
  {
   "cell_type": "code",
   "execution_count": 108,
   "id": "stainless-integration",
   "metadata": {},
   "outputs": [
    {
     "data": {
      "text/plain": [
       "[Text(0, 0, ''),\n",
       " Text(0, 0, 'eng'),\n",
       " Text(0, 0, 'ger'),\n",
       " Text(0, 0, 'spa'),\n",
       " Text(0, 0, 'en-US'),\n",
       " Text(0, 0, 'ita'),\n",
       " Text(0, 0, 'per'),\n",
       " Text(0, 0, 'en-GB'),\n",
       " Text(0, 0, 'tur'),\n",
       " Text(0, 0, 'ind'),\n",
       " Text(0, 0, 'mon'),\n",
       " Text(0, 0, 'fre'),\n",
       " Text(0, 0, 'por'),\n",
       " Text(0, 0, 'ara'),\n",
       " Text(0, 0, 'en-CA'),\n",
       " Text(0, 0, 'tha'),\n",
       " Text(0, 0, 'lav'),\n",
       " Text(0, 0, 'jpn'),\n",
       " Text(0, 0, 'pol'),\n",
       " Text(0, 0, 'swe'),\n",
       " Text(0, 0, 'kor'),\n",
       " Text(0, 0, 'fin'),\n",
       " Text(0, 0, 'msa'),\n",
       " Text(0, 0, 'bul'),\n",
       " Text(0, 0, 'nl'),\n",
       " Text(0, 0, 'gre'),\n",
       " Text(0, 0, 'slo'),\n",
       " Text(0, 0, 'nor'),\n",
       " Text(0, 0, 'heb'),\n",
       " Text(0, 0, 'hun'),\n",
       " Text(0, 0, 'ben'),\n",
       " Text(0, 0, 'scr'),\n",
       " Text(0, 0, 'zho'),\n",
       " Text(0, 0, 'fil'),\n",
       " Text(0, 0, 'rus'),\n",
       " Text(0, 0, 'lit'),\n",
       " Text(0, 0, 'rum'),\n",
       " Text(0, 0, 'cze'),\n",
       " Text(0, 0, 'dan'),\n",
       " Text(0, 0, 'slv'),\n",
       " Text(0, 0, 'nno'),\n",
       " Text(0, 0, 'pes'),\n",
       " Text(0, 0, 'hye'),\n",
       " Text(0, 0, 'nob'),\n",
       " Text(0, 0, 'cat'),\n",
       " Text(0, 0, 'en'),\n",
       " Text(0, 0, 'vie'),\n",
       " Text(0, 0, 'nep'),\n",
       " Text(0, 0, 'mar'),\n",
       " Text(0, 0, 'srp'),\n",
       " Text(0, 0, 'urd'),\n",
       " Text(0, 0, 'guj'),\n",
       " Text(0, 0, 'est'),\n",
       " Text(0, 0, 'sqi'),\n",
       " Text(0, 0, 'ukr'),\n",
       " Text(0, 0, 'afr'),\n",
       " Text(0, 0, 'mul'),\n",
       " Text(0, 0, 'grc'),\n",
       " Text(0, 0, 'kat'),\n",
       " Text(0, 0, 'mkd'),\n",
       " Text(0, 0, 'hin'),\n",
       " Text(0, 0, 'tam'),\n",
       " Text(0, 0, 'mus'),\n",
       " Text(0, 0, '--'),\n",
       " Text(0, 0, 'bos'),\n",
       " Text(0, 0, 'enm'),\n",
       " Text(0, 0, 'gla'),\n",
       " Text(0, 0, 'isl'),\n",
       " Text(0, 0, 'glg'),\n",
       " Text(0, 0, 'mal'),\n",
       " Text(0, 0, 'kur'),\n",
       " Text(0, 0, 'wel'),\n",
       " Text(0, 0, 'pt-BR'),\n",
       " Text(0, 0, 'crh'),\n",
       " Text(0, 0, 'tel'),\n",
       " Text(0, 0, 'es-MX'),\n",
       " Text(0, 0, 'kan'),\n",
       " Text(0, 0, 'mya'),\n",
       " Text(0, 0, 'fao'),\n",
       " Text(0, 0, 'aze'),\n",
       " Text(0, 0, 'ota'),\n",
       " Text(0, 0, 'arw'),\n",
       " Text(0, 0, 'pra'),\n",
       " Text(0, 0, 'tgl'),\n",
       " Text(0, 0, 'lat'),\n",
       " Text(0, 0, 'dum'),\n",
       " Text(0, 0, 'eus'),\n",
       " Text(0, 0, 'sin'),\n",
       " Text(0, 0, 'mlt'),\n",
       " Text(0, 0, 'ada'),\n",
       " Text(0, 0, 'apa'),\n",
       " Text(0, 0, 'udm'),\n",
       " Text(0, 0, 'peo'),\n",
       " Text(0, 0, 'bel'),\n",
       " Text(0, 0, 'iro'),\n",
       " Text(0, 0, 'nld')]"
      ]
     },
     "execution_count": 108,
     "metadata": {},
     "output_type": "execute_result"
    },
    {
     "data": {
      "image/png": "[encoded data removed]",
      "text/plain": [
       "<Figure size 1080x360 with 1 Axes>"
      ]
     },
     "metadata": {
      "needs_background": "light"
     },
     "output_type": "display_data"
    }
   ],
   "source": [
    "plt.figure(figsize=(15,5))\n",
    "chart = sns.countplot(x = df.language_code)\n",
    "chart.set_xticklabels(labels = chart.get_xticklabels() , rotation=45, horizontalalignment='right')"
   ]
  },
  {
   "cell_type": "code",
   "execution_count": 114,
   "id": "equipped-stock",
   "metadata": {},
   "outputs": [],
   "source": [
    "df.to_pickle('embeddings_sample1.pkl')"
   ]
  },
  {
   "cell_type": "code",
   "execution_count": null,
   "id": "continued-accommodation",
   "metadata": {},
   "outputs": [],
   "source": []
  }
 ],
 "metadata": {
  "kernelspec": {
   "display_name": "Python 3.6 - AzureML",
   "language": "python",
   "name": "python3-azureml"
  },
  "language_info": {
   "codemirror_mode": {
    "name": "ipython",
    "version": 3
   },
   "file_extension": ".py",
   "mimetype": "text/x-python",
   "name": "python",
   "nbconvert_exporter": "python",
   "pygments_lexer": "ipython3",
   "version": "3.6.9"
  }
 },
 "nbformat": 4,
 "nbformat_minor": 5
}
