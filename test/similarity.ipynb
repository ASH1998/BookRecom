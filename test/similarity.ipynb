{
 "cells": [
  {
   "cell_type": "code",
   "execution_count": 1,
   "id": "molecular-knight",
   "metadata": {},
   "outputs": [],
   "source": [
    "import pandas as pd\n",
    "import numpy as np\n",
    "from tqdm import tqdm\n",
    "import time\n",
    "import nlu"
   ]
  },
  {
   "cell_type": "code",
   "execution_count": 2,
   "id": "synthetic-constant",
   "metadata": {},
   "outputs": [],
   "source": [
    "df = pd.read_pickle('embeddings_sample1.pkl')"
   ]
  },
  {
   "cell_type": "code",
   "execution_count": 3,
   "id": "parliamentary-nightlife",
   "metadata": {},
   "outputs": [
    {
     "data": {
      "text/html": [
       "<div>\n",
       "<style scoped>\n",
       "    .dataframe tbody tr th:only-of-type {\n",
       "        vertical-align: middle;\n",
       "    }\n",
       "\n",
       "    .dataframe tbody tr th {\n",
       "        vertical-align: top;\n",
       "    }\n",
       "\n",
       "    .dataframe thead th {\n",
       "        text-align: right;\n",
       "    }\n",
       "</style>\n",
       "<table border=\"1\" class=\"dataframe\">\n",
       "  <thead>\n",
       "    <tr style=\"text-align: right;\">\n",
       "      <th></th>\n",
       "      <th>country_code</th>\n",
       "      <th>language_code</th>\n",
       "      <th>average_rating</th>\n",
       "      <th>description</th>\n",
       "      <th>link</th>\n",
       "      <th>num_pages</th>\n",
       "      <th>url</th>\n",
       "      <th>image_url</th>\n",
       "      <th>book_id</th>\n",
       "      <th>ratings_count</th>\n",
       "      <th>title</th>\n",
       "      <th>embeddings</th>\n",
       "    </tr>\n",
       "  </thead>\n",
       "  <tbody>\n",
       "    <tr>\n",
       "      <th>0</th>\n",
       "      <td>US</td>\n",
       "      <td></td>\n",
       "      <td>4.00</td>\n",
       "      <td>W.C. Fields A Life on Film</td>\n",
       "      <td>https://www.goodreads.com/book/show/5333265-w-...</td>\n",
       "      <td>256</td>\n",
       "      <td>https://www.goodreads.com/book/show/5333265-w-...</td>\n",
       "      <td>https://images.gr-assets.com/books/1310220028m...</td>\n",
       "      <td>5333265</td>\n",
       "      <td>3</td>\n",
       "      <td>W.C. Fields: A Life on Film</td>\n",
       "      <td>origin_index\n",
       "0    [-0.829294741153717, 0.30839...</td>\n",
       "    </tr>\n",
       "    <tr>\n",
       "      <th>1</th>\n",
       "      <td>US</td>\n",
       "      <td></td>\n",
       "      <td>3.23</td>\n",
       "      <td>Anita Diamants international bestseller The Re...</td>\n",
       "      <td>https://www.goodreads.com/book/show/1333909.Go...</td>\n",
       "      <td></td>\n",
       "      <td>https://www.goodreads.com/book/show/1333909.Go...</td>\n",
       "      <td>https://s.gr-assets.com/assets/nophoto/book/11...</td>\n",
       "      <td>1333909</td>\n",
       "      <td>10</td>\n",
       "      <td>Good Harbor</td>\n",
       "      <td>origin_index\n",
       "1    [-0.5028615593910217, 0.1767...</td>\n",
       "    </tr>\n",
       "    <tr>\n",
       "      <th>2</th>\n",
       "      <td>US</td>\n",
       "      <td>eng</td>\n",
       "      <td>4.03</td>\n",
       "      <td>Omnibus book club edition containing the Ladie...</td>\n",
       "      <td>https://www.goodreads.com/book/show/7327624-th...</td>\n",
       "      <td>600</td>\n",
       "      <td>https://www.goodreads.com/book/show/7327624-th...</td>\n",
       "      <td>https://images.gr-assets.com/books/1304100136m...</td>\n",
       "      <td>7327624</td>\n",
       "      <td>140</td>\n",
       "      <td>The Unschooled Wizard (Sun Wolf and Starhawk, ...</td>\n",
       "      <td>origin_index\n",
       "2    [-1.1011953353881836, 0.1527...</td>\n",
       "    </tr>\n",
       "    <tr>\n",
       "      <th>3</th>\n",
       "      <td>US</td>\n",
       "      <td>eng</td>\n",
       "      <td>3.49</td>\n",
       "      <td>Addie Downs and Valerie Adler were eight when ...</td>\n",
       "      <td>https://www.goodreads.com/book/show/6066819-be...</td>\n",
       "      <td>368</td>\n",
       "      <td>https://www.goodreads.com/book/show/6066819-be...</td>\n",
       "      <td>https://s.gr-assets.com/assets/nophoto/book/11...</td>\n",
       "      <td>6066819</td>\n",
       "      <td>51184</td>\n",
       "      <td>Best Friends Forever</td>\n",
       "      <td>origin_index\n",
       "3    [-0.5350350141525269, -0.177...</td>\n",
       "    </tr>\n",
       "    <tr>\n",
       "      <th>4</th>\n",
       "      <td>US</td>\n",
       "      <td></td>\n",
       "      <td>3.40</td>\n",
       "      <td>Runic Astrology Starcraft and Timekeeping in t...</td>\n",
       "      <td>https://www.goodreads.com/book/show/287140.Run...</td>\n",
       "      <td></td>\n",
       "      <td>https://www.goodreads.com/book/show/287140.Run...</td>\n",
       "      <td>https://images.gr-assets.com/books/1413219371m...</td>\n",
       "      <td>287140</td>\n",
       "      <td>15</td>\n",
       "      <td>Runic Astrology: Starcraft and Timekeeping in ...</td>\n",
       "      <td>origin_index\n",
       "4    [-1.0804023742675781, -0.580...</td>\n",
       "    </tr>\n",
       "  </tbody>\n",
       "</table>\n",
       "</div>"
      ],
      "text/plain": [
       "  country_code language_code average_rating  \\\n",
       "0           US                         4.00   \n",
       "1           US                         3.23   \n",
       "2           US           eng           4.03   \n",
       "3           US           eng           3.49   \n",
       "4           US                         3.40   \n",
       "\n",
       "                                         description  \\\n",
       "0                         W.C. Fields A Life on Film   \n",
       "1  Anita Diamants international bestseller The Re...   \n",
       "2  Omnibus book club edition containing the Ladie...   \n",
       "3  Addie Downs and Valerie Adler were eight when ...   \n",
       "4  Runic Astrology Starcraft and Timekeeping in t...   \n",
       "\n",
       "                                                link num_pages  \\\n",
       "0  https://www.goodreads.com/book/show/5333265-w-...       256   \n",
       "1  https://www.goodreads.com/book/show/1333909.Go...             \n",
       "2  https://www.goodreads.com/book/show/7327624-th...       600   \n",
       "3  https://www.goodreads.com/book/show/6066819-be...       368   \n",
       "4  https://www.goodreads.com/book/show/287140.Run...             \n",
       "\n",
       "                                                 url  \\\n",
       "0  https://www.goodreads.com/book/show/5333265-w-...   \n",
       "1  https://www.goodreads.com/book/show/1333909.Go...   \n",
       "2  https://www.goodreads.com/book/show/7327624-th...   \n",
       "3  https://www.goodreads.com/book/show/6066819-be...   \n",
       "4  https://www.goodreads.com/book/show/287140.Run...   \n",
       "\n",
       "                                           image_url  book_id ratings_count  \\\n",
       "0  https://images.gr-assets.com/books/1310220028m...  5333265             3   \n",
       "1  https://s.gr-assets.com/assets/nophoto/book/11...  1333909            10   \n",
       "2  https://images.gr-assets.com/books/1304100136m...  7327624           140   \n",
       "3  https://s.gr-assets.com/assets/nophoto/book/11...  6066819         51184   \n",
       "4  https://images.gr-assets.com/books/1413219371m...   287140            15   \n",
       "\n",
       "                                               title  \\\n",
       "0                        W.C. Fields: A Life on Film   \n",
       "1                                        Good Harbor   \n",
       "2  The Unschooled Wizard (Sun Wolf and Starhawk, ...   \n",
       "3                               Best Friends Forever   \n",
       "4  Runic Astrology: Starcraft and Timekeeping in ...   \n",
       "\n",
       "                                          embeddings  \n",
       "0  origin_index\n",
       "0    [-0.829294741153717, 0.30839...  \n",
       "1  origin_index\n",
       "1    [-0.5028615593910217, 0.1767...  \n",
       "2  origin_index\n",
       "2    [-1.1011953353881836, 0.1527...  \n",
       "3  origin_index\n",
       "3    [-0.5350350141525269, -0.177...  \n",
       "4  origin_index\n",
       "4    [-1.0804023742675781, -0.580...  "
      ]
     },
     "execution_count": 3,
     "metadata": {},
     "output_type": "execute_result"
    }
   ],
   "source": [
    "df.head()"
   ]
  },
  {
   "cell_type": "code",
   "execution_count": 4,
   "id": "corrected-juice",
   "metadata": {},
   "outputs": [],
   "source": [
    "df['newembeddings'] = [df.embeddings.iloc[i][i] for i in df.index]\n",
    "df.drop('embeddings', axis=1, inplace=True)"
   ]
  },
  {
   "cell_type": "code",
   "execution_count": 9,
   "id": "hearing-perth",
   "metadata": {},
   "outputs": [],
   "source": [
    "from sklearn.metrics.pairwise import cosine_similarity\n",
    "def calculate_similarity(df, description_embeddings, top=5):\n",
    "#     embedmat = np.reshape(df.embeddings.iloc[0][0], (-1,1))\n",
    "    df['similarity'] = df.newembeddings.apply(lambda x : cosine_similarity([x], [description_embeddings]))\n",
    "    df['similarity'] = df['similarity'].apply(lambda x: x[0][0])\n",
    "    df.sort_values('similarity', ascending = False, inplace=True)\n",
    "    topvals = df.head(top)\n",
    "    del df\n",
    "    return topvals"
   ]
  },
  {
   "cell_type": "code",
   "execution_count": 34,
   "id": "lucky-theory",
   "metadata": {},
   "outputs": [
    {
     "name": "stdout",
     "output_type": "stream",
     "text": [
      "sent_small_bert_L2_128 download started this may take some time.\n",
      "Approximate size to download 16.1 MB\n",
      "[OK!]\n"
     ]
    }
   ],
   "source": []
  },
  {
   "cell_type": "code",
   "execution_count": 8,
   "id": "dried-detection",
   "metadata": {},
   "outputs": [
    {
     "data": {
      "text/plain": [
       "array([-7.14844406e-01,  1.68481037e-01, -7.59370029e-01, -1.70723665e+00,\n",
       "       -3.85025710e-01,  5.62436581e-01,  1.79088116e-03,  9.69523251e-01,\n",
       "       -1.12486660e+00,  6.84760883e-02, -4.04094100e-01,  1.69808075e-01,\n",
       "       -9.97332633e-02,  4.70852703e-01,  1.66986167e+00, -5.70686460e-01,\n",
       "       -8.12795937e-01,  1.25390813e-01, -1.33138227e+00,  1.59013927e+00,\n",
       "       -6.57826364e-01,  4.71965760e-01,  1.37673891e+00, -1.22229652e-02,\n",
       "        5.97772598e-01, -4.68061656e-01,  5.87667882e-01,  6.88694537e-01,\n",
       "        1.27768293e-01, -4.46936488e-01, -1.85114622e+00, -2.11357474e+00,\n",
       "       -7.96346605e-01,  4.45819706e-01,  6.59269750e-01, -1.35353625e-01,\n",
       "        2.48016760e-01, -3.66127752e-02, -1.49317563e+00, -7.04807997e-01,\n",
       "        1.47082174e+00, -1.02448022e+00,  7.44602203e-01, -1.05425990e+00,\n",
       "       -1.31911173e-01, -1.12773621e+00, -5.86157978e-01, -8.50824594e-01,\n",
       "       -7.13725761e-02, -3.93449336e-01,  6.96347237e-01,  1.14670265e+00,\n",
       "        7.58602202e-01, -2.31148779e-01,  9.42807734e-01, -8.74486685e-01,\n",
       "        1.45003808e+00, -5.27899802e-01, -9.12848949e-01,  5.52439332e-01,\n",
       "        4.83373672e-01, -1.38661110e+00, -1.26737058e+00, -1.70329884e-01,\n",
       "       -1.32148516e+00, -7.52160609e-01, -4.83508855e-01,  7.99041510e-01,\n",
       "        1.79996148e-01,  2.14099422e-01, -9.93276775e-01,  4.11720991e-01,\n",
       "        1.66347921e-01,  4.77239996e-01, -1.27978659e+00, -1.29598856e-01,\n",
       "       -3.99928838e-01, -3.64902020e-02,  1.12223542e+00,  1.73212782e-01,\n",
       "       -3.98418099e-01, -1.61104575e-01,  5.06200135e-01,  1.28953779e+00,\n",
       "       -7.53607750e-01, -5.89466810e-01, -1.14730597e+00, -8.79755974e-01,\n",
       "        1.77031040e+00, -1.12574720e+00,  2.19536734e+00,  5.35512567e-01,\n",
       "       -1.27895355e+00,  1.72507250e+00,  5.62203288e-01,  1.30353296e+00,\n",
       "       -9.63841751e-02, -3.65462303e-01,  3.92674208e-01,  4.04460520e-01,\n",
       "       -6.18624985e-02,  2.55145818e-01,  4.44707721e-01, -9.03909028e-01,\n",
       "        2.04522848e+00, -1.06269312e+00, -3.02771688e-01, -4.48284000e-01,\n",
       "       -4.89988357e-01,  5.29222675e-02, -2.64685273e-01,  9.96413410e-01,\n",
       "        2.20841289e+00, -9.46290314e-01, -8.13857689e-02,  3.86853784e-01,\n",
       "       -2.64134675e-01, -1.46723425e+00,  1.23564529e+00,  2.49381125e-01,\n",
       "        2.29262352e-01,  2.16727138e+00,  1.19673562e+00, -3.08998179e+00,\n",
       "       -2.83898711e+00, -1.07843983e+00, -6.92666113e-01,  1.29892612e+00])"
      ]
     },
     "execution_count": 8,
     "metadata": {},
     "output_type": "execute_result"
    }
   ],
   "source": [
    "pipe.predict(\"hello how are you\")['embed_sentence_bert_embeddings'][0]"
   ]
  },
  {
   "cell_type": "code",
   "execution_count": 11,
   "id": "focused-parent",
   "metadata": {},
   "outputs": [
    {
     "name": "stdout",
     "output_type": "stream",
     "text": [
      "Stored model in pipeline\n"
     ]
    }
   ],
   "source": [
    "# pipe.save(\"pipeline\")"
   ]
  },
  {
   "cell_type": "code",
   "execution_count": 6,
   "id": "exclusive-blood",
   "metadata": {},
   "outputs": [],
   "source": [
    "pipe = nlu.load(request='from_disk', path='pipeline')"
   ]
  },
  {
   "cell_type": "code",
   "execution_count": 10,
   "id": "moved-narrative",
   "metadata": {},
   "outputs": [],
   "source": [
    "descpred = pipe.predict(\"Unabridged CDs, 25 CDs, 30 hoursRead by TBABobbi Anderson and the other good folks of Haven, Maine, have sold their sould to reap the rewards of the most deadly evil this side of hell.\")['embed_sentence_bert_embeddings'][0]"
   ]
  },
  {
   "cell_type": "code",
   "execution_count": 11,
   "id": "absolute-horse",
   "metadata": {},
   "outputs": [
    {
     "name": "stdout",
     "output_type": "stream",
     "text": [
      "time taken :  30.049670934677124\n"
     ]
    }
   ],
   "source": [
    "start = time.time()\n",
    "resdf = calculate_similarity(df, descpred)\n",
    "end = time.time()\n",
    "print(\"time taken : \", end-start )"
   ]
  },
  {
   "cell_type": "code",
   "execution_count": 12,
   "id": "flexible-senior",
   "metadata": {},
   "outputs": [
    {
     "data": {
      "text/html": [
       "<div>\n",
       "<style scoped>\n",
       "    .dataframe tbody tr th:only-of-type {\n",
       "        vertical-align: middle;\n",
       "    }\n",
       "\n",
       "    .dataframe tbody tr th {\n",
       "        vertical-align: top;\n",
       "    }\n",
       "\n",
       "    .dataframe thead th {\n",
       "        text-align: right;\n",
       "    }\n",
       "</style>\n",
       "<table border=\"1\" class=\"dataframe\">\n",
       "  <thead>\n",
       "    <tr style=\"text-align: right;\">\n",
       "      <th></th>\n",
       "      <th>country_code</th>\n",
       "      <th>language_code</th>\n",
       "      <th>average_rating</th>\n",
       "      <th>description</th>\n",
       "      <th>link</th>\n",
       "      <th>num_pages</th>\n",
       "      <th>url</th>\n",
       "      <th>image_url</th>\n",
       "      <th>book_id</th>\n",
       "      <th>ratings_count</th>\n",
       "      <th>title</th>\n",
       "      <th>newembeddings</th>\n",
       "      <th>similarity</th>\n",
       "    </tr>\n",
       "  </thead>\n",
       "  <tbody>\n",
       "    <tr>\n",
       "      <th>23</th>\n",
       "      <td>US</td>\n",
       "      <td></td>\n",
       "      <td>3.48</td>\n",
       "      <td>Unabridged CDs, 25 CDs, 30 hoursRead by TBABob...</td>\n",
       "      <td>https://www.goodreads.com/book/show/7203847-th...</td>\n",
       "      <td>1</td>\n",
       "      <td>https://www.goodreads.com/book/show/7203847-th...</td>\n",
       "      <td>https://s.gr-assets.com/assets/nophoto/book/11...</td>\n",
       "      <td>7203847</td>\n",
       "      <td>45</td>\n",
       "      <td>The Tommyknockers</td>\n",
       "      <td>[-0.9947413802146912, -0.023835165426135063, -...</td>\n",
       "      <td>1.000000</td>\n",
       "    </tr>\n",
       "    <tr>\n",
       "      <th>84537</th>\n",
       "      <td>US</td>\n",
       "      <td></td>\n",
       "      <td>3.85</td>\n",
       "      <td>Phobia Relief is an International Bestseller o...</td>\n",
       "      <td>https://www.goodreads.com/book/show/32593488-p...</td>\n",
       "      <td></td>\n",
       "      <td>https://www.goodreads.com/book/show/32593488-p...</td>\n",
       "      <td>https://images.gr-assets.com/books/1482401047m...</td>\n",
       "      <td>32593488</td>\n",
       "      <td>15</td>\n",
       "      <td>Phobia Relief: From Fear to Freedom</td>\n",
       "      <td>[-0.9732649922370911, 0.031195294111967087, -0...</td>\n",
       "      <td>0.929310</td>\n",
       "    </tr>\n",
       "    <tr>\n",
       "      <th>47917</th>\n",
       "      <td>US</td>\n",
       "      <td>eng</td>\n",
       "      <td>4.19</td>\n",
       "      <td>Now available on audio for the first time ever...</td>\n",
       "      <td>https://www.goodreads.com/book/show/1110349.Li...</td>\n",
       "      <td>224</td>\n",
       "      <td>https://www.goodreads.com/book/show/1110349.Li...</td>\n",
       "      <td>https://images.gr-assets.com/books/1389126485m...</td>\n",
       "      <td>1110349</td>\n",
       "      <td>201</td>\n",
       "      <td>Life, the Universe and Everything (The Hitchhi...</td>\n",
       "      <td>[-0.5712970495223999, 0.14246602356433868, 0.1...</td>\n",
       "      <td>0.925836</td>\n",
       "    </tr>\n",
       "    <tr>\n",
       "      <th>83287</th>\n",
       "      <td>US</td>\n",
       "      <td>eng</td>\n",
       "      <td>4.22</td>\n",
       "      <td>Now available on audio for the first time ever...</td>\n",
       "      <td>https://www.goodreads.com/book/show/8703.The_R...</td>\n",
       "      <td>6</td>\n",
       "      <td>https://www.goodreads.com/book/show/8703.The_R...</td>\n",
       "      <td>https://s.gr-assets.com/assets/nophoto/book/11...</td>\n",
       "      <td>8703</td>\n",
       "      <td>441</td>\n",
       "      <td>The Restaurant at the End of the Universe (The...</td>\n",
       "      <td>[-0.5712970495223999, 0.14246602356433868, 0.1...</td>\n",
       "      <td>0.925836</td>\n",
       "    </tr>\n",
       "    <tr>\n",
       "      <th>2145</th>\n",
       "      <td>US</td>\n",
       "      <td>eng</td>\n",
       "      <td>4.90</td>\n",
       "      <td>Business handled, conquests made, supply and s...</td>\n",
       "      <td>https://www.goodreads.com/book/show/16080320-t...</td>\n",
       "      <td></td>\n",
       "      <td>https://www.goodreads.com/book/show/16080320-t...</td>\n",
       "      <td>https://images.gr-assets.com/books/1349961981m...</td>\n",
       "      <td>16080320</td>\n",
       "      <td>29</td>\n",
       "      <td>Thin Ice 11 - Homecoming</td>\n",
       "      <td>[-0.7592757344245911, 0.20372845232486725, -0....</td>\n",
       "      <td>0.924467</td>\n",
       "    </tr>\n",
       "  </tbody>\n",
       "</table>\n",
       "</div>"
      ],
      "text/plain": [
       "      country_code language_code average_rating  \\\n",
       "23              US                         3.48   \n",
       "84537           US                         3.85   \n",
       "47917           US           eng           4.19   \n",
       "83287           US           eng           4.22   \n",
       "2145            US           eng           4.90   \n",
       "\n",
       "                                             description  \\\n",
       "23     Unabridged CDs, 25 CDs, 30 hoursRead by TBABob...   \n",
       "84537  Phobia Relief is an International Bestseller o...   \n",
       "47917  Now available on audio for the first time ever...   \n",
       "83287  Now available on audio for the first time ever...   \n",
       "2145   Business handled, conquests made, supply and s...   \n",
       "\n",
       "                                                    link num_pages  \\\n",
       "23     https://www.goodreads.com/book/show/7203847-th...         1   \n",
       "84537  https://www.goodreads.com/book/show/32593488-p...             \n",
       "47917  https://www.goodreads.com/book/show/1110349.Li...       224   \n",
       "83287  https://www.goodreads.com/book/show/8703.The_R...         6   \n",
       "2145   https://www.goodreads.com/book/show/16080320-t...             \n",
       "\n",
       "                                                     url  \\\n",
       "23     https://www.goodreads.com/book/show/7203847-th...   \n",
       "84537  https://www.goodreads.com/book/show/32593488-p...   \n",
       "47917  https://www.goodreads.com/book/show/1110349.Li...   \n",
       "83287  https://www.goodreads.com/book/show/8703.The_R...   \n",
       "2145   https://www.goodreads.com/book/show/16080320-t...   \n",
       "\n",
       "                                               image_url   book_id  \\\n",
       "23     https://s.gr-assets.com/assets/nophoto/book/11...   7203847   \n",
       "84537  https://images.gr-assets.com/books/1482401047m...  32593488   \n",
       "47917  https://images.gr-assets.com/books/1389126485m...   1110349   \n",
       "83287  https://s.gr-assets.com/assets/nophoto/book/11...      8703   \n",
       "2145   https://images.gr-assets.com/books/1349961981m...  16080320   \n",
       "\n",
       "      ratings_count                                              title  \\\n",
       "23               45                                  The Tommyknockers   \n",
       "84537            15                Phobia Relief: From Fear to Freedom   \n",
       "47917           201  Life, the Universe and Everything (The Hitchhi...   \n",
       "83287           441  The Restaurant at the End of the Universe (The...   \n",
       "2145             29                           Thin Ice 11 - Homecoming   \n",
       "\n",
       "                                           newembeddings  similarity  \n",
       "23     [-0.9947413802146912, -0.023835165426135063, -...    1.000000  \n",
       "84537  [-0.9732649922370911, 0.031195294111967087, -0...    0.929310  \n",
       "47917  [-0.5712970495223999, 0.14246602356433868, 0.1...    0.925836  \n",
       "83287  [-0.5712970495223999, 0.14246602356433868, 0.1...    0.925836  \n",
       "2145   [-0.7592757344245911, 0.20372845232486725, -0....    0.924467  "
      ]
     },
     "execution_count": 12,
     "metadata": {},
     "output_type": "execute_result"
    }
   ],
   "source": [
    "resdf"
   ]
  },
  {
   "cell_type": "code",
   "execution_count": 15,
   "id": "indonesian-skirt",
   "metadata": {},
   "outputs": [
    {
     "name": "stdout",
     "output_type": "stream",
     "text": [
      "US\n",
      "US\n",
      "US\n",
      "US\n",
      "US\n"
     ]
    }
   ],
   "source": [
    "for i in resdf.index:\n",
    "    print(resdf.country_code.loc[i])"
   ]
  },
  {
   "cell_type": "code",
   "execution_count": 14,
   "id": "humanitarian-burke",
   "metadata": {},
   "outputs": [
    {
     "data": {
      "text/plain": [
       "Int64Index([23, 84537, 47917, 83287, 2145], dtype='int64')"
      ]
     },
     "execution_count": 14,
     "metadata": {},
     "output_type": "execute_result"
    }
   ],
   "source": [
    "resdf.index"
   ]
  },
  {
   "cell_type": "code",
   "execution_count": null,
   "id": "educated-webcam",
   "metadata": {},
   "outputs": [],
   "source": []
  }
 ],
 "metadata": {
  "kernelspec": {
   "display_name": "Python 3.6 - AzureML",
   "language": "python",
   "name": "python3-azureml"
  },
  "language_info": {
   "codemirror_mode": {
    "name": "ipython",
    "version": 3
   },
   "file_extension": ".py",
   "mimetype": "text/x-python",
   "name": "python",
   "nbconvert_exporter": "python",
   "pygments_lexer": "ipython3",
   "version": "3.6.9"
  }
 },
 "nbformat": 4,
 "nbformat_minor": 5
}
